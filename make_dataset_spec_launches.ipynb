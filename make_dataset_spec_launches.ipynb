{
 "cells": [
  {
   "cell_type": "code",
   "execution_count": null,
   "id": "841f589c-5e2c-4bc4-a78b-97060411b398",
   "metadata": {},
   "outputs": [],
   "source": [
    "'''\n",
    "Seth Tyler\n",
    "ISD503 Project\n",
    "Fall 2021\n",
    "'''"
   ]
  },
  {
   "cell_type": "code",
   "execution_count": 1,
   "id": "a60b73ad-d1bd-45be-972b-6b42c0008b3f",
   "metadata": {},
   "outputs": [],
   "source": [
    "# This script is used to generate new datasets that only include a specific number of launches (i.e. only the first 5 launches of all vehicles)\n",
    "\n",
    "\n",
    "import numpy as np\n",
    "import pandas as pd\n",
    "import matplotlib.pyplot as plt\n",
    "import scipy\n",
    "import math\n",
    "from scipy.special import gamma, btdtri\n",
    "import scipy.stats as ss"
   ]
  },
  {
   "cell_type": "code",
   "execution_count": 2,
   "id": "6123b353-d727-45fd-9144-d7904be933b4",
   "metadata": {},
   "outputs": [],
   "source": [
    "verbose = 0"
   ]
  },
  {
   "cell_type": "code",
   "execution_count": 3,
   "id": "7802c234-fe1b-4e81-876c-4fbf55351246",
   "metadata": {},
   "outputs": [],
   "source": [
    "datafile = '../08-Datasets/Aggregated_SLR_Dataset_v4.xlsx'\n",
    "sheet = 'All-exclusionsandfiltered'\n",
    "\n",
    "df = pd.read_excel(datafile, sheet_name=sheet,engine=\"openpyxl\") #if using .xlsx\n",
    "# df = pd.read_excel(datafile, sheet_name=sheet, engine='xlrd') #if using .xls"
   ]
  },
  {
   "cell_type": "code",
   "execution_count": 6,
   "id": "201fad07-a38e-4070-a09f-fec9bfd118ff",
   "metadata": {},
   "outputs": [],
   "source": [
    "def first_launches(df, launch_number=20):\n",
    "    fun_df = pd.DataFrame()\n",
    "    fun_df = df.copy()\n",
    "    fun_df['pandas_running_successes'] = fun_df['Success_Bool'].cumsum()\n",
    "    fun_df['pandas_running_failures'] = fun_df['Failure_Bool'].cumsum()\n",
    "    fun_df['pandas_running_launches'] = fun_df['pandas_running_failures']+fun_df['pandas_running_successes']\n",
    "    successes = fun_df['pandas_running_successes'].loc[fun_df['pandas_running_launches'] == launch_number].item()\n",
    "    failures = fun_df['pandas_running_failures'].loc[fun_df['pandas_running_launches'] == launch_number].item()\n",
    "#     print(rslt_df['pandas_running_launches'])\n",
    "    #print(rslt_df['pandas_running_launches'].loc[rslt_df['pandas_running_launches'] <= launch_number])\n",
    "    filtered_df = fun_df.loc[fun_df['pandas_running_launches'] == launch_number]\n",
    "#     print(filtered_df)\n",
    "    return filtered_df"
   ]
  },
  {
   "cell_type": "code",
   "execution_count": 7,
   "id": "57edcaa3-21a2-4b3e-9928-4dfde7ba4067",
   "metadata": {
    "tags": []
   },
   "outputs": [
    {
     "name": "stdout",
     "output_type": "stream",
     "text": [
      "Number of vehicles in the running is 67\n",
      "Number of vehicles in the running is 52\n",
      "Number of vehicles in the running is 44\n",
      "Number of vehicles in the running is 36\n",
      "Number of vehicles in the running is 32\n",
      "Number of vehicles in the running is 28\n",
      "Number of vehicles in the running is 27\n"
     ]
    }
   ],
   "source": [
    "launch_numbers=[1,2,3,4,5,6,7]\n",
    "\n",
    "for launch_number in launch_numbers:\n",
    "    candidate_vhcl_fam_list = []\n",
    "    interim_df = pd.DataFrame()\n",
    "    final_df = pd.DataFrame(columns=['Date', 'Vehicle', 'ID', 'Payload/Mission', 'Site', 'Orbit',\n",
    "           'Mass (orig)', 'Mass_for_hist', 'Mass_Cat', 'Failure_Text',\n",
    "           'Clean_Veh_Name', 'Veh_Family', 'Veh_Mfctr', 'Veh_Mfctr_Region',\n",
    "           'Launch_Country', 'Launch_Site', 'Veh_Active', 'Veh_SubFam_Active',\n",
    "           'Veh_GenFam_Active', 'Failure_Bool', 'Success_Bool',\n",
    "           'Failure_Running_Total', 'Success_Running_Total', 'Launch_Total',\n",
    "           'Gen_Veh_Family', 'Veh_Generation', 'Number_of_Stages',\n",
    "           'Veh_Generation_Category', 'Number_of_Stages_Category',\n",
    "           'pandas_running_successes', 'pandas_running_failures',\n",
    "           'pandas_running_launches'])\n",
    "\n",
    "\n",
    "    Veh_Family=df['Veh_Family'].unique()\n",
    "    Veh_Family.sort()\n",
    "\n",
    "    for vhcl_fam in Veh_Family:\n",
    "        if verbose: print('vhcl=',vhcl_fam)\n",
    "        rslt_df = df.loc[df['Veh_Family']==vhcl_fam]\n",
    "\n",
    "        rslt_df.set_index('Date')\n",
    "\n",
    "        total_successes = max(rslt_df['Success_Bool'].cumsum())\n",
    "        total_failures = max(rslt_df['Failure_Bool'].cumsum())\n",
    "        total_launches = total_successes + total_failures\n",
    "\n",
    "        if total_launches < launch_number:\n",
    "            if verbose: print(vhcl_fam,'has too few launches')\n",
    "        else:\n",
    "            candidate_vhcl_fam_list.append(vhcl_fam)\n",
    "\n",
    "    print('Number of vehicles in the running is',str(len(candidate_vhcl_fam_list)))\n",
    "    # print(candidate_vhcl_fam_list)\n",
    "\n",
    "    for vhcl_fam in candidate_vhcl_fam_list:\n",
    "    #     print('working on', vhcl_fam)\n",
    "        rslt_df = df.loc[df['Veh_Family']==vhcl_fam]\n",
    "        interim_df = first_launches(rslt_df, launch_number=launch_number)\n",
    "        final_df = final_df.append(interim_df)#, ignore_index=True, sort=False)\n",
    "\n",
    "    # print(final_df)\n",
    "    filename = '../08-Datasets/filtered_to_'+str(launch_number)+'_launches.xlsx'\n",
    "    # To write all the file:\n",
    "    # final_df.to_excel(filename, sheet_name='All')\n",
    "\n",
    "    excel_df = pd.DataFrame()\n",
    "    excel_df= final_df[['Mass_Cat','Veh_Generation_Category','Number_of_Stages_Category', 'Failure_Bool']].copy()\n",
    "    excel_df.to_excel(filename,sheet_name='ForNeticaShortExcluded')\n"
   ]
  }
 ],
 "metadata": {
  "kernelspec": {
   "display_name": "Python 3",
   "language": "python",
   "name": "python3"
  },
  "language_info": {
   "codemirror_mode": {
    "name": "ipython",
    "version": 3
   },
   "file_extension": ".py",
   "mimetype": "text/x-python",
   "name": "python",
   "nbconvert_exporter": "python",
   "pygments_lexer": "ipython3",
   "version": "3.9.5"
  }
 },
 "nbformat": 4,
 "nbformat_minor": 5
}
