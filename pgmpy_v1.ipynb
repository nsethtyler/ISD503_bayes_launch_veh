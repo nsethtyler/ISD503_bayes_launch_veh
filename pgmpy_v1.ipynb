{
 "cells": [
  {
   "cell_type": "code",
   "execution_count": null,
   "id": "76af4567-2d09-4d61-bc42-e4308c66c29f",
   "metadata": {},
   "outputs": [],
   "source": [
    "'''\n",
    "Seth Tyler\n",
    "ISD503 Project\n",
    "Fall 2021\n",
    "'''"
   ]
  },
  {
   "cell_type": "code",
   "execution_count": 99,
   "id": "a5f6af18-5f55-4a4e-b9f6-be20e5a6d458",
   "metadata": {},
   "outputs": [],
   "source": [
    "import pandas as pd\n",
    "from pgmpy.models import BayesianNetwork\n",
    "from pgmpy.estimators import ParameterEstimator\n",
    "from pgmpy.estimators import MaximumLikelihoodEstimator\n",
    "from pgmpy.estimators import BayesianEstimator\n"
   ]
  },
  {
   "cell_type": "code",
   "execution_count": 118,
   "id": "44559e20-0abe-45f9-a758-b2eadf127d37",
   "metadata": {},
   "outputs": [
    {
     "name": "stdout",
     "output_type": "stream",
     "text": [
      "CPT of Mass_Cat:\n",
      "+---------------+----------+\n",
      "| Mass_Cat(1.0) | 0.655405 |\n",
      "+---------------+----------+\n",
      "| Mass_Cat(2.0) | 0.344595 |\n",
      "+---------------+----------+ \n",
      "\n",
      "['Mass_Cat'] \n",
      "\n",
      "[0.65540541 0.34459459] \n",
      "\n",
      "CPT of Stages_Cat:\n",
      "+---------------+---------------------+---------------------+\n",
      "| Mass_Cat      | Mass_Cat(1.0)       | Mass_Cat(2.0)       |\n",
      "+---------------+---------------------+---------------------+\n",
      "| Stages_Cat(1) | 0.18213058419243988 | 0.8169934640522877  |\n",
      "+---------------+---------------------+---------------------+\n",
      "| Stages_Cat(2) | 0.32646048109965636 | 0.11111111111111113 |\n",
      "+---------------+---------------------+---------------------+\n",
      "| Stages_Cat(3) | 0.49140893470790376 | 0.07189542483660133 |\n",
      "+---------------+---------------------+---------------------+ \n",
      "\n",
      "['Stages_Cat', 'Mass_Cat'] \n",
      "\n",
      "[[0.18213058 0.81699346]\n",
      " [0.32646048 0.11111111]\n",
      " [0.49140893 0.07189542]] \n",
      "\n",
      "CPT of Failure_Bool:\n",
      "+-----------------+---------------------+-----+----------------------+----------------+\n",
      "| Stages_Cat      | Stages_Cat(1)       | ... | Stages_Cat(3)        | Stages_Cat(3)  |\n",
      "+-----------------+---------------------+-----+----------------------+----------------+\n",
      "| Veh_Gen_Cat     | Veh_Gen_Cat(1)      | ... | Veh_Gen_Cat(2)       | Veh_Gen_Cat(3) |\n",
      "+-----------------+---------------------+-----+----------------------+----------------+\n",
      "| Failure_Bool(0) | 0.8319672131147541  | ... | 0.9759615384615384   | 0.5            |\n",
      "+-----------------+---------------------+-----+----------------------+----------------+\n",
      "| Failure_Bool(1) | 0.16803278688524587 | ... | 0.024038461538461536 | 0.5            |\n",
      "+-----------------+---------------------+-----+----------------------+----------------+ \n",
      "\n",
      "['Failure_Bool', 'Stages_Cat', 'Veh_Gen_Cat'] \n",
      "\n",
      "[[[0.83196721 0.96753247 0.83088235]\n",
      "  [0.83088235 0.87894737 0.5       ]\n",
      "  [0.9795082  0.97596154 0.5       ]]\n",
      "\n",
      " [[0.16803279 0.03246753 0.16911765]\n",
      "  [0.16911765 0.12105263 0.5       ]\n",
      "  [0.0204918  0.02403846 0.5       ]]] \n",
      "\n",
      "CPT of Veh_Gen_Cat:\n",
      "+----------------+----------+\n",
      "| Veh_Gen_Cat(1) | 0.468468 |\n",
      "+----------------+----------+\n",
      "| Veh_Gen_Cat(2) | 0.414414 |\n",
      "+----------------+----------+\n",
      "| Veh_Gen_Cat(3) | 0.117117 |\n",
      "+----------------+----------+ \n",
      "\n",
      "['Veh_Gen_Cat'] \n",
      "\n",
      "[0.46846847 0.41441441 0.11711712] \n",
      "\n"
     ]
    }
   ],
   "source": [
    "import numpy as np\n",
    "import pandas as pd\n",
    "from pgmpy.models import BayesianNetwork\n",
    "from pgmpy.estimators import BayesianEstimator\n",
    "\n",
    "# datafile = '../08-Datasets/Aggregated_SLR_Dataset_v4.xlsx'\n",
    "datafile = '../08-Datasets/filtered_to_5_launches.xlsx'\n",
    "sheet = 'ForNeticaShortExcluded'\n",
    "\n",
    "# generate data\n",
    "data = pd.read_excel(datafile, sheet_name=sheet,engine=\"openpyxl\") #if using .xlsx\n",
    "data = data.rename(columns={'Number_of_Stages_Category':'Stages_Cat', 'Veh_Generation_Category':'Veh_Gen_Cat'})\n",
    "\n",
    "model = BayesianNetwork([('Mass_Cat', 'Stages_Cat'), ('Stages_Cat', 'Failure_Bool'), ('Veh_Gen_Cat', 'Failure_Bool')])\n",
    "\n",
    "model.fit(data, estimator=BayesianEstimator, prior_type=\"BDeu\")#, equivalent_sample_size=10) # default equivalent_sample_size=5\n",
    "for cpd in model.get_cpds():\n",
    "    print(f'CPT of {cpd.variable}:')\n",
    "    print(cpd, '\\n')\n",
    "    print(cpd.variables,'\\n')\n",
    "    print(cpd.values, '\\n')"
   ]
  },
  {
   "cell_type": "code",
   "execution_count": 109,
   "id": "510aea5f-faf9-4055-960b-2ec4d1e72c92",
   "metadata": {},
   "outputs": [
    {
     "ename": "TypeError",
     "evalue": "'TabularCPD' object is not subscriptable",
     "output_type": "error",
     "traceback": [
      "\u001b[1;31m---------------------------------------------------------------------------\u001b[0m",
      "\u001b[1;31mTypeError\u001b[0m                                 Traceback (most recent call last)",
      "\u001b[1;32m<ipython-input-109-259b0e3214ca>\u001b[0m in \u001b[0;36m<module>\u001b[1;34m\u001b[0m\n\u001b[1;32m----> 1\u001b[1;33m \u001b[0mdf\u001b[0m \u001b[1;33m=\u001b[0m \u001b[0mcpd\u001b[0m\u001b[1;33m[\u001b[0m\u001b[1;36m3\u001b[0m\u001b[1;33m]\u001b[0m\u001b[1;33m.\u001b[0m\u001b[0mvalues\u001b[0m\u001b[1;33m\u001b[0m\u001b[1;33m\u001b[0m\u001b[0m\n\u001b[0m",
      "\u001b[1;31mTypeError\u001b[0m: 'TabularCPD' object is not subscriptable"
     ]
    }
   ],
   "source": [
    "df = cpd[3].values"
   ]
  },
  {
   "cell_type": "code",
   "execution_count": 110,
   "id": "10cb151f-c87d-4db3-8fa1-e52c9527388e",
   "metadata": {},
   "outputs": [
    {
     "ename": "ValueError",
     "evalue": "Node Stages_Cat not in not in graph",
     "output_type": "error",
     "traceback": [
      "\u001b[1;31m---------------------------------------------------------------------------\u001b[0m",
      "\u001b[1;31mValueError\u001b[0m                                Traceback (most recent call last)",
      "\u001b[1;32m<ipython-input-110-57c026d987b0>\u001b[0m in \u001b[0;36m<module>\u001b[1;34m\u001b[0m\n\u001b[0;32m      6\u001b[0m \u001b[1;31m# print(fail_dist)\u001b[0m\u001b[1;33m\u001b[0m\u001b[1;33m\u001b[0m\u001b[1;33m\u001b[0m\u001b[0m\n\u001b[0;32m      7\u001b[0m \u001b[1;33m\u001b[0m\u001b[0m\n\u001b[1;32m----> 8\u001b[1;33m \u001b[0mprint\u001b[0m\u001b[1;33m(\u001b[0m\u001b[0msolver\u001b[0m\u001b[1;33m.\u001b[0m\u001b[0mquery\u001b[0m\u001b[1;33m(\u001b[0m\u001b[0mvariables\u001b[0m\u001b[1;33m=\u001b[0m\u001b[1;33m[\u001b[0m\u001b[1;34m'Failure_Bool'\u001b[0m\u001b[1;33m]\u001b[0m\u001b[1;33m,\u001b[0m \u001b[0mevidence\u001b[0m\u001b[1;33m=\u001b[0m\u001b[1;33m{\u001b[0m\u001b[1;34m'Stages_Cat'\u001b[0m\u001b[1;33m:\u001b[0m\u001b[1;36m3\u001b[0m\u001b[1;33m,\u001b[0m \u001b[1;34m'Veh_Gen_Cat'\u001b[0m\u001b[1;33m:\u001b[0m\u001b[1;36m2\u001b[0m\u001b[1;33m}\u001b[0m\u001b[1;33m)\u001b[0m\u001b[1;33m)\u001b[0m\u001b[1;33m\u001b[0m\u001b[1;33m\u001b[0m\u001b[0m\n\u001b[0m",
      "\u001b[1;32mc:\\users\\nseth\\appdata\\local\\programs\\python\\python39\\lib\\site-packages\\pgmpy\\inference\\ExactInference.py\u001b[0m in \u001b[0;36mquery\u001b[1;34m(self, variables, evidence, virtual_evidence, elimination_order, joint, show_progress)\u001b[0m\n\u001b[0;32m    299\u001b[0m         \u001b[1;31m# Make a copy of the original model as it will be replaced during pruning.\u001b[0m\u001b[1;33m\u001b[0m\u001b[1;33m\u001b[0m\u001b[1;33m\u001b[0m\u001b[0m\n\u001b[0;32m    300\u001b[0m         \u001b[1;32mif\u001b[0m \u001b[0misinstance\u001b[0m\u001b[1;33m(\u001b[0m\u001b[0mself\u001b[0m\u001b[1;33m.\u001b[0m\u001b[0mmodel\u001b[0m\u001b[1;33m,\u001b[0m \u001b[0mBayesianNetwork\u001b[0m\u001b[1;33m)\u001b[0m\u001b[1;33m:\u001b[0m\u001b[1;33m\u001b[0m\u001b[1;33m\u001b[0m\u001b[0m\n\u001b[1;32m--> 301\u001b[1;33m             \u001b[0mself\u001b[0m\u001b[1;33m.\u001b[0m\u001b[0mmodel\u001b[0m\u001b[1;33m,\u001b[0m \u001b[0mevidence\u001b[0m \u001b[1;33m=\u001b[0m \u001b[0mself\u001b[0m\u001b[1;33m.\u001b[0m\u001b[0m_prune_bayesian_model\u001b[0m\u001b[1;33m(\u001b[0m\u001b[0mvariables\u001b[0m\u001b[1;33m,\u001b[0m \u001b[0mevidence\u001b[0m\u001b[1;33m)\u001b[0m\u001b[1;33m\u001b[0m\u001b[1;33m\u001b[0m\u001b[0m\n\u001b[0m\u001b[0;32m    302\u001b[0m         \u001b[0mself\u001b[0m\u001b[1;33m.\u001b[0m\u001b[0m_initialize_structures\u001b[0m\u001b[1;33m(\u001b[0m\u001b[1;33m)\u001b[0m\u001b[1;33m\u001b[0m\u001b[1;33m\u001b[0m\u001b[0m\n\u001b[0;32m    303\u001b[0m \u001b[1;33m\u001b[0m\u001b[0m\n",
      "\u001b[1;32mc:\\users\\nseth\\appdata\\local\\programs\\python\\python39\\lib\\site-packages\\pgmpy\\inference\\base.py\u001b[0m in \u001b[0;36m_prune_bayesian_model\u001b[1;34m(self, variables, evidence)\u001b[0m\n\u001b[0;32m    148\u001b[0m         \u001b[1;31m# Step 1: Remove all the variables that are d-separated from `variables` when conditioned\u001b[0m\u001b[1;33m\u001b[0m\u001b[1;33m\u001b[0m\u001b[1;33m\u001b[0m\u001b[0m\n\u001b[0;32m    149\u001b[0m         \u001b[1;31m#         on `evidence`\u001b[0m\u001b[1;33m\u001b[0m\u001b[1;33m\u001b[0m\u001b[1;33m\u001b[0m\u001b[0m\n\u001b[1;32m--> 150\u001b[1;33m         d_connected = bn.active_trail_nodes(\n\u001b[0m\u001b[0;32m    151\u001b[0m             \u001b[0mvariables\u001b[0m\u001b[1;33m=\u001b[0m\u001b[0mvariables\u001b[0m\u001b[1;33m,\u001b[0m \u001b[0mobserved\u001b[0m\u001b[1;33m=\u001b[0m\u001b[0mlist\u001b[0m\u001b[1;33m(\u001b[0m\u001b[0mevidence\u001b[0m\u001b[1;33m.\u001b[0m\u001b[0mkeys\u001b[0m\u001b[1;33m(\u001b[0m\u001b[1;33m)\u001b[0m\u001b[1;33m)\u001b[0m\u001b[1;33m,\u001b[0m \u001b[0minclude_latents\u001b[0m\u001b[1;33m=\u001b[0m\u001b[1;32mTrue\u001b[0m\u001b[1;33m\u001b[0m\u001b[1;33m\u001b[0m\u001b[0m\n\u001b[0;32m    152\u001b[0m         )\n",
      "\u001b[1;32mc:\\users\\nseth\\appdata\\local\\programs\\python\\python39\\lib\\site-packages\\pgmpy\\base\\DAG.py\u001b[0m in \u001b[0;36mactive_trail_nodes\u001b[1;34m(self, variables, observed, include_latents)\u001b[0m\n\u001b[0;32m    714\u001b[0m         \u001b[1;32melse\u001b[0m\u001b[1;33m:\u001b[0m\u001b[1;33m\u001b[0m\u001b[1;33m\u001b[0m\u001b[0m\n\u001b[0;32m    715\u001b[0m             \u001b[0mobserved_list\u001b[0m \u001b[1;33m=\u001b[0m \u001b[1;33m[\u001b[0m\u001b[1;33m]\u001b[0m\u001b[1;33m\u001b[0m\u001b[1;33m\u001b[0m\u001b[0m\n\u001b[1;32m--> 716\u001b[1;33m         \u001b[0mancestors_list\u001b[0m \u001b[1;33m=\u001b[0m \u001b[0mself\u001b[0m\u001b[1;33m.\u001b[0m\u001b[0m_get_ancestors_of\u001b[0m\u001b[1;33m(\u001b[0m\u001b[0mobserved_list\u001b[0m\u001b[1;33m)\u001b[0m\u001b[1;33m\u001b[0m\u001b[1;33m\u001b[0m\u001b[0m\n\u001b[0m\u001b[0;32m    717\u001b[0m \u001b[1;33m\u001b[0m\u001b[0m\n\u001b[0;32m    718\u001b[0m         \u001b[1;31m# Direction of flow of information\u001b[0m\u001b[1;33m\u001b[0m\u001b[1;33m\u001b[0m\u001b[1;33m\u001b[0m\u001b[0m\n",
      "\u001b[1;32mc:\\users\\nseth\\appdata\\local\\programs\\python\\python39\\lib\\site-packages\\pgmpy\\base\\DAG.py\u001b[0m in \u001b[0;36m_get_ancestors_of\u001b[1;34m(self, nodes)\u001b[0m\n\u001b[0;32m    776\u001b[0m         \u001b[1;32mfor\u001b[0m \u001b[0mnode\u001b[0m \u001b[1;32min\u001b[0m \u001b[0mnodes\u001b[0m\u001b[1;33m:\u001b[0m\u001b[1;33m\u001b[0m\u001b[1;33m\u001b[0m\u001b[0m\n\u001b[0;32m    777\u001b[0m             \u001b[1;32mif\u001b[0m \u001b[0mnode\u001b[0m \u001b[1;32mnot\u001b[0m \u001b[1;32min\u001b[0m \u001b[0mself\u001b[0m\u001b[1;33m.\u001b[0m\u001b[0mnodes\u001b[0m\u001b[1;33m(\u001b[0m\u001b[1;33m)\u001b[0m\u001b[1;33m:\u001b[0m\u001b[1;33m\u001b[0m\u001b[1;33m\u001b[0m\u001b[0m\n\u001b[1;32m--> 778\u001b[1;33m                 \u001b[1;32mraise\u001b[0m \u001b[0mValueError\u001b[0m\u001b[1;33m(\u001b[0m\u001b[1;34mf\"Node {node} not in not in graph\"\u001b[0m\u001b[1;33m)\u001b[0m\u001b[1;33m\u001b[0m\u001b[1;33m\u001b[0m\u001b[0m\n\u001b[0m\u001b[0;32m    779\u001b[0m \u001b[1;33m\u001b[0m\u001b[0m\n\u001b[0;32m    780\u001b[0m         \u001b[0mancestors_list\u001b[0m \u001b[1;33m=\u001b[0m \u001b[0mset\u001b[0m\u001b[1;33m(\u001b[0m\u001b[1;33m)\u001b[0m\u001b[1;33m\u001b[0m\u001b[1;33m\u001b[0m\u001b[0m\n",
      "\u001b[1;31mValueError\u001b[0m: Node Stages_Cat not in not in graph"
     ]
    }
   ],
   "source": [
    "from pgmpy.inference import VariableElimination\n",
    "infer = VariableElimination(model)\n",
    "solver = VariableElimination(model)\n",
    "\n",
    "#fail_dist = infer.map_query(['Failure_Bool'], evidence={'Stages_Cat':1, 'Veh_Gen_Cat':2, 'Mass_Cat':1})\n",
    "# print(fail_dist)\n",
    "\n",
    "print(solver.query(variables=['Failure_Bool'], evidence={'Stages_Cat':3, 'Veh_Gen_Cat':2}))\n"
   ]
  },
  {
   "cell_type": "code",
   "execution_count": 111,
   "id": "f20059f5-fd5c-42c8-95b2-cc134c963e25",
   "metadata": {},
   "outputs": [
    {
     "name": "stdout",
     "output_type": "stream",
     "text": [
      "+---------------------------+-----+------------------------------+\n",
      "| Number_of_Stages_Category | ... | Number_of_Stages_Category(3) |\n",
      "+---------------------------+-----+------------------------------+\n",
      "| Veh_Generation_Category   | ... | Veh_Generation_Category(3)   |\n",
      "+---------------------------+-----+------------------------------+\n",
      "| Failure_Bool(0)           | ... | 0.5                          |\n",
      "+---------------------------+-----+------------------------------+\n",
      "| Failure_Bool(1)           | ... | 0.5                          |\n",
      "+---------------------------+-----+------------------------------+\n"
     ]
    }
   ],
   "source": [
    "print(model.get_cpds('Failure_Bool'))\n"
   ]
  },
  {
   "cell_type": "code",
   "execution_count": 84,
   "id": "bf7eebb6-5050-438f-99b6-417e3f2ee29f",
   "metadata": {},
   "outputs": [
    {
     "name": "stdout",
     "output_type": "stream",
     "text": [
      "+----------------+----------+\n",
      "| Veh_Gen_Cat(1) | 0.241092 |\n",
      "+----------------+----------+\n",
      "| Veh_Gen_Cat(2) | 0.456609 |\n",
      "+----------------+----------+\n",
      "| Veh_Gen_Cat(3) | 0.302299 |\n",
      "+----------------+----------+\n"
     ]
    }
   ],
   "source": [
    "print(cpd)"
   ]
  },
  {
   "cell_type": "code",
   "execution_count": null,
   "id": "10c62ca4-6ef6-4191-bb97-d063f9882596",
   "metadata": {},
   "outputs": [],
   "source": []
  },
  {
   "cell_type": "code",
   "execution_count": null,
   "id": "4e51d9b4-97d9-4e9f-aa8c-2ecc18dbdd82",
   "metadata": {},
   "outputs": [],
   "source": []
  },
  {
   "cell_type": "code",
   "execution_count": null,
   "id": "3eb9b29f-772a-4f78-8e2b-72020e708022",
   "metadata": {},
   "outputs": [],
   "source": []
  },
  {
   "cell_type": "code",
   "execution_count": null,
   "id": "1bd0266a-b553-40a9-87fc-884753d0f6ef",
   "metadata": {},
   "outputs": [],
   "source": []
  },
  {
   "cell_type": "code",
   "execution_count": null,
   "id": "476a31a0-c6e5-4f93-84ef-1c5ec56c80a8",
   "metadata": {},
   "outputs": [],
   "source": []
  }
 ],
 "metadata": {
  "kernelspec": {
   "display_name": "Python 3",
   "language": "python",
   "name": "python3"
  },
  "language_info": {
   "codemirror_mode": {
    "name": "ipython",
    "version": 3
   },
   "file_extension": ".py",
   "mimetype": "text/x-python",
   "name": "python",
   "nbconvert_exporter": "python",
   "pygments_lexer": "ipython3",
   "version": "3.9.5"
  }
 },
 "nbformat": 4,
 "nbformat_minor": 5
}
